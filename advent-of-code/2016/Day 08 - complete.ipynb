{
 "cells": [
  {
   "cell_type": "code",
   "execution_count": 1,
   "metadata": {
    "collapsed": true
   },
   "outputs": [],
   "source": [
    "import numpy as np"
   ]
  },
  {
   "cell_type": "markdown",
   "metadata": {},
   "source": [
    "## Part 1 and 2"
   ]
  },
  {
   "cell_type": "code",
   "execution_count": 114,
   "metadata": {
    "collapsed": false
   },
   "outputs": [],
   "source": [
    "class code():\n",
    "    def __init__(self, output_datatype):\n",
    "        self.status = np.zeros([6,50], dtype=output_datatype)\n",
    "        self.datatype = output_datatype\n",
    "    def rect(self, A, B):\n",
    "        if self.datatype == str:\n",
    "            self.status[:B, :A] = '*'\n",
    "        else:\n",
    "            self.status[:B, :A] = 1\n",
    "    def rrow(self, A, B):\n",
    "        row = self.status[A,:].copy()\n",
    "        row2 = np.zeros(len(row), dtype=self.datatype)\n",
    "        for index in range(len(row)):\n",
    "            row2[(index+B)%len(row)] = row[index]\n",
    "        self.status[A, :] = row2\n",
    "    def rcolumn(self, A, B):\n",
    "        column = self.status[:,A].copy()\n",
    "        column2 = np.zeros(len(column), dtype=self.datatype)\n",
    "        for index in range(len(column)):\n",
    "            column2[(index+B)%len(column)] = column[index]\n",
    "        self.status[:,A] = column2\n",
    "    def follow_instruction(self, mystring):\n",
    "        if mystring.split(' ')[0] == 'rect':\n",
    "            C = 1\n",
    "            [A, B] = [int(x) for x in mystring.split(' ')[1].split('x')]#.astype(str)\n",
    "        else:\n",
    "            if mystring.split(' ')[1] == 'row':\n",
    "                C = 2\n",
    "            else:\n",
    "                C = 3\n",
    "            A = int(mystring.split(' ')[2].split('=')[1])\n",
    "            B = int(mystring.split(' ')[4])\n",
    "        if C == 1:\n",
    "            self.rect(A,B)\n",
    "        elif C == 2:\n",
    "            self.rrow(A,B)\n",
    "        elif C ==3:\n",
    "            self.rcolumn(A,B)"
   ]
  },
  {
   "cell_type": "markdown",
   "metadata": {},
   "source": [
    "### Answer Part 1"
   ]
  },
  {
   "cell_type": "code",
   "execution_count": 118,
   "metadata": {
    "collapsed": false
   },
   "outputs": [
    {
     "name": "stdout",
     "output_type": "stream",
     "text": [
      "115\n"
     ]
    }
   ],
   "source": [
    "mycode = code(int)\n",
    "\n",
    "f = open(\"08_input.txt\", \"r\")\n",
    "for line in f:\n",
    "    mycode.follow_instruction(line.strip())\n",
    "\n",
    "print(mycode.status.sum())"
   ]
  },
  {
   "cell_type": "markdown",
   "metadata": {},
   "source": [
    "### Answer Part 2"
   ]
  },
  {
   "cell_type": "code",
   "execution_count": 117,
   "metadata": {
    "collapsed": false
   },
   "outputs": [
    {
     "name": "stdout",
     "output_type": "stream",
     "text": [
      "[['*' '*' '*' '*' '']\n",
      " ['*' '' '' '' '']\n",
      " ['*' '*' '*' '' '']\n",
      " ['*' '' '' '' '']\n",
      " ['*' '' '' '' '']\n",
      " ['*' '*' '*' '*' '']]\n",
      "\n",
      "\n",
      "[['*' '*' '*' '*' '']\n",
      " ['*' '' '' '' '']\n",
      " ['*' '*' '*' '' '']\n",
      " ['*' '' '' '' '']\n",
      " ['*' '' '' '' '']\n",
      " ['*' '' '' '' '']]\n",
      "\n",
      "\n",
      "[['*' '*' '*' '*' '']\n",
      " ['*' '' '' '' '']\n",
      " ['*' '*' '*' '' '']\n",
      " ['*' '' '' '' '']\n",
      " ['*' '' '' '' '']\n",
      " ['*' '*' '*' '*' '']]\n",
      "\n",
      "\n",
      "[['*' '' '' '' '*']\n",
      " ['*' '' '' '' '*']\n",
      " ['' '*' '' '*' '']\n",
      " ['' '' '*' '' '']\n",
      " ['' '' '*' '' '']\n",
      " ['' '' '*' '' '']]\n",
      "\n",
      "\n",
      "[['*' '' '' '*' '']\n",
      " ['*' '' '*' '' '']\n",
      " ['*' '*' '' '' '']\n",
      " ['*' '' '*' '' '']\n",
      " ['*' '' '*' '' '']\n",
      " ['*' '' '' '*' '']]\n",
      "\n",
      "\n",
      "[['*' '*' '*' '*' '']\n",
      " ['*' '' '' '' '']\n",
      " ['*' '*' '*' '' '']\n",
      " ['*' '' '' '' '']\n",
      " ['*' '' '' '' '']\n",
      " ['*' '' '' '' '']]\n",
      "\n",
      "\n",
      "[['*' '*' '*' '' '']\n",
      " ['*' '' '' '*' '']\n",
      " ['*' '' '' '*' '']\n",
      " ['*' '*' '*' '' '']\n",
      " ['*' '' '*' '' '']\n",
      " ['*' '' '' '*' '']]\n",
      "\n",
      "\n",
      "[['*' '*' '*' '*' '']\n",
      " ['*' '' '' '' '']\n",
      " ['*' '*' '*' '' '']\n",
      " ['*' '' '' '' '']\n",
      " ['*' '' '' '' '']\n",
      " ['*' '' '' '' '']]\n",
      "\n",
      "\n",
      "[['' '*' '*' '*' '']\n",
      " ['' '' '*' '' '']\n",
      " ['' '' '*' '' '']\n",
      " ['' '' '*' '' '']\n",
      " ['' '' '*' '' '']\n",
      " ['' '*' '*' '*' '']]\n",
      "\n",
      "\n",
      "[['' '' '*' '*' '']\n",
      " ['' '' '' '*' '']\n",
      " ['' '' '' '*' '']\n",
      " ['' '' '' '*' '']\n",
      " ['*' '' '' '*' '']\n",
      " ['' '*' '*' '' '']]\n",
      "\n",
      "\n"
     ]
    }
   ],
   "source": [
    "mycode = code(str)\n",
    "\n",
    "f = open(\"08_input.txt\", \"r\")\n",
    "for line in f:\n",
    "    mycode.follow_instruction(line.strip())\n",
    "\n",
    "for counter in range(10): \n",
    "    print(mycode.status[:, counter * 5 : (counter + 1) * 5])\n",
    "    print('\\n')"
   ]
  },
  {
   "cell_type": "markdown",
   "metadata": {},
   "source": [
    "**EFEYKFRFIJ**"
   ]
  }
 ],
 "metadata": {
  "kernelspec": {
   "display_name": "Python 3",
   "language": "python",
   "name": "python3"
  },
  "language_info": {
   "codemirror_mode": {
    "name": "ipython",
    "version": 3
   },
   "file_extension": ".py",
   "mimetype": "text/x-python",
   "name": "python",
   "nbconvert_exporter": "python",
   "pygments_lexer": "ipython3",
   "version": "3.6.0"
  }
 },
 "nbformat": 4,
 "nbformat_minor": 2
}

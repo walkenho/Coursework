{
 "cells": [
  {
   "cell_type": "markdown",
   "metadata": {},
   "source": [
    "# Day 2: Bathroom Security\n",
    "\n",
    "## Part 1"
   ]
  },
  {
   "cell_type": "markdown",
   "metadata": {},
   "source": [
    "You arrive at Easter Bunny Headquarters under cover of darkness. However, you left in such a rush that you forgot to use the bathroom! Fancy office buildings like this one usually have keypad locks on their bathrooms, so you search the front desk for the code.\n",
    "\n",
    "\"In order to improve security,\" the document you find says, \"bathroom codes will no longer be written down. Instead, please memorize and follow the procedure below to access the bathrooms.\"\n",
    "\n",
    "The document goes on to explain that each button to be pressed can be found by starting on the previous button and moving to adjacent buttons on the keypad: U moves up, D moves down, L moves left, and R moves right. Each line of instructions corresponds to one button, starting at the previous button (or, for the first line, the \"5\" button); press whatever button you're on at the end of each line. If a move doesn't lead to a button, ignore it.\n",
    "\n",
    "You can't hold it much longer, so you decide to figure out the code as you walk to the bathroom. You picture a keypad like this:\n",
    "\n",
    "1 2 3\n",
    "\n",
    "4 5 6\n",
    "\n",
    "7 8 9\n",
    "\n",
    "Suppose your instructions are:\n",
    "\n",
    "ULL\n",
    "\n",
    "RRDDD\n",
    "\n",
    "LURDL\n",
    "\n",
    "UUUUD\n",
    "\n",
    "You start at \"5\" and move up (to \"2\"), left (to \"1\"), and left (you can't, and stay on \"1\"), so the first button is 1.\n",
    "Starting from the previous button (\"1\"), you move right twice (to \"3\") and then down three times (stopping at \"9\" after two moves and ignoring the third), ending up with 9.\n",
    "Continuing from \"9\", you move left, up, right, down, and left, ending with 8.\n",
    "Finally, you move up four times (stopping at \"2\"), then down once, ending with 5.\n",
    "So, in this example, the bathroom code is 1985.\n",
    "\n",
    "Your puzzle input is the instructions from the document you found at the front desk. What is the bathroom code?"
   ]
  },
  {
   "cell_type": "code",
   "execution_count": 1,
   "metadata": {
    "collapsed": true
   },
   "outputs": [],
   "source": [
    "import numpy as np"
   ]
  },
  {
   "cell_type": "code",
   "execution_count": 2,
   "metadata": {
    "collapsed": true
   },
   "outputs": [],
   "source": [
    "def dec(x):\n",
    "    if x-1 < 0:\n",
    "        return 0\n",
    "    else:\n",
    "        return x-1\n",
    "    \n",
    "def inc(x):\n",
    "    if x+1 > 2:\n",
    "        return 2\n",
    "    else:\n",
    "        return x+1"
   ]
  },
  {
   "cell_type": "code",
   "execution_count": 3,
   "metadata": {
    "collapsed": true
   },
   "outputs": [],
   "source": [
    "class code:\n",
    "    def __init__(self, start_position=[1,1]):\n",
    "        self.position = start_position\n",
    "        self.code = ''\n",
    "        \n",
    "    def move(self, direction):\n",
    "        if direction == \"R\":\n",
    "            self.position = [self.position[0], inc(self.position[1])]\n",
    "        elif direction == \"L\":\n",
    "            self.position = [self.position[0], dec(self.position[1])]\n",
    "        elif direction == \"U\":\n",
    "            self.position = [dec(self.position[0]), self.position[1]]\n",
    "        elif direction == \"D\":\n",
    "            self.position = [inc(self.position[0]), self.position[1]]\n",
    "        else:\n",
    "            print(\"There was a problem with your directions.\")\n",
    "            \n",
    "    def add_digit(self):\n",
    "        keypad = np.array([x for x in range(1,10)]).reshape(3,3)\n",
    "        self.code = self.code + str(keypad[self.position[0], self.position[1]])"
   ]
  },
  {
   "cell_type": "code",
   "execution_count": 4,
   "metadata": {
    "collapsed": false
   },
   "outputs": [
    {
     "name": "stdout",
     "output_type": "stream",
     "text": [
      "19636\n"
     ]
    }
   ],
   "source": [
    "key = code()\n",
    "counter = 0\n",
    "\n",
    "f = open('02_input.txt', 'r')\n",
    "for line in f:\n",
    "    counter = counter +1\n",
    "    for direction in line.strip():\n",
    "        key.move(direction)\n",
    "    key.add_digit()\n",
    "print(key.code)"
   ]
  },
  {
   "cell_type": "markdown",
   "metadata": {},
   "source": [
    "## Part 2"
   ]
  },
  {
   "cell_type": "raw",
   "metadata": {},
   "source": [
    "You finally arrive at the bathroom (it's a several minute walk from the lobby so visitors can behold the many fancy conference rooms and water coolers on this floor) and go to punch in the code. Much to your bladder's dismay, the keypad is not at all like you imagined it. Instead, you are confronted with the result of hundreds of man-hours of bathroom-keypad-design meetings:\n",
    "\n",
    "    1\n",
    "    \n",
    "  2 3 4\n",
    "  \n",
    "5 6 7 8 9\n",
    "\n",
    "  A B C\n",
    "  \n",
    "    D\n",
    "You still start at \"5\" and stop when you're at an edge, but given the same instructions as above, the outcome is very different:\n",
    "\n",
    "You start at \"5\" and don't move at all (up and left are both edges), ending at 5.\n",
    "Continuing from \"5\", you move right twice and down three times (through \"6\", \"7\", \"B\", \"D\", \"D\"), ending at D.\n",
    "\n",
    "Then, from \"D\", you move five more times (through \"D\", \"B\", \"C\", \"C\", \"B\"), ending at B.\n",
    "\n",
    "Finally, after five more moves, you end at 3.\n",
    "\n",
    "So, given the actual keypad layout, the code would be 5DB3.\n",
    "\n",
    "Using the same instructions in your puzzle input, what is the correct bathroom code?"
   ]
  },
  {
   "cell_type": "code",
   "execution_count": 5,
   "metadata": {
    "collapsed": true
   },
   "outputs": [],
   "source": [
    "class code2:\n",
    "    def __init__(self):\n",
    "        self.position = [-2,0]\n",
    "        self.code = list([])\n",
    "        \n",
    "    def move(self, direction):\n",
    "        if direction == \"R\":\n",
    "            if abs(self.position[0] + 1) + abs(self.position[1]) <= 2:\n",
    "                self.position[0] = self.position[0] + 1\n",
    "        elif direction == \"L\":\n",
    "            if abs(self.position[0] - 1) + abs(self.position[1]) <= 2:\n",
    "                self.position[0] = self.position[0] - 1\n",
    "        elif direction == \"U\":\n",
    "            #print(self.position)\n",
    "            if abs(self.position[0]) + abs(self.position[1] - 1) <= 2:\n",
    "                self.position[1] = self.position[1] - 1\n",
    "        elif direction == \"D\":\n",
    "            if abs(self.position[0]) + abs(self.position[1] + 1) <= 2:\n",
    "                self.position[1] = self.position[1] + 1\n",
    "        else:\n",
    "            print(\"There was a problem with your directions.\")\n",
    "            \n",
    "    def add_digit(self):\n",
    "        self.code.append(self.position.copy())"
   ]
  },
  {
   "cell_type": "code",
   "execution_count": 6,
   "metadata": {
    "collapsed": false
   },
   "outputs": [
    {
     "name": "stdout",
     "output_type": "stream",
     "text": [
      "[[0, -1], [1, 1], [1, 1], [1, -1], [0, -1]]\n"
     ]
    }
   ],
   "source": [
    "key = code2()\n",
    "counter = 0\n",
    "\n",
    "f = open('02_input.txt', 'r')\n",
    "for line in f:\n",
    "    counter = counter + 1\n",
    "    for direction in line.strip():\n",
    "        key.move(direction)\n",
    "    key.add_digit()\n",
    "print(key.code)"
   ]
  },
  {
   "cell_type": "raw",
   "metadata": {
    "collapsed": true
   },
   "source": [
    "    1\n",
    "  2 3 4\n",
    "5 6 7 8 9\n",
    "  A B C\n",
    "    D"
   ]
  },
  {
   "cell_type": "markdown",
   "metadata": {},
   "source": [
    "[[-2, 0], [0, 2], [0, 1], [0, -1]] = 5DB3"
   ]
  },
  {
   "cell_type": "markdown",
   "metadata": {},
   "source": [
    "[[0, -1], [1, 1], [1, 1], [1, -1], [0, -1]] = 3CC43"
   ]
  }
 ],
 "metadata": {
  "kernelspec": {
   "display_name": "Python 3",
   "language": "python",
   "name": "python3"
  },
  "language_info": {
   "codemirror_mode": {
    "name": "ipython",
    "version": 3
   },
   "file_extension": ".py",
   "mimetype": "text/x-python",
   "name": "python",
   "nbconvert_exporter": "python",
   "pygments_lexer": "ipython3",
   "version": "3.6.0"
  }
 },
 "nbformat": 4,
 "nbformat_minor": 2
}

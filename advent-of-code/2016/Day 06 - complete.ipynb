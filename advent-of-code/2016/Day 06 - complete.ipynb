{
 "cells": [
  {
   "cell_type": "markdown",
   "metadata": {},
   "source": [
    "# Day 06"
   ]
  },
  {
   "cell_type": "code",
   "execution_count": 28,
   "metadata": {
    "collapsed": false
   },
   "outputs": [],
   "source": [
    "from collections import Counter"
   ]
  },
  {
   "cell_type": "markdown",
   "metadata": {},
   "source": [
    "## Part 1"
   ]
  },
  {
   "cell_type": "code",
   "execution_count": 93,
   "metadata": {
    "collapsed": false
   },
   "outputs": [
    {
     "data": {
      "text/plain": [
       "'kjxfwkdh'"
      ]
     },
     "execution_count": 93,
     "metadata": {},
     "output_type": "execute_result"
    }
   ],
   "source": [
    "#f = open('06_testinput.txt', \"r\")\n",
    "f = open('06_input.txt', \"r\")\n",
    "\n",
    "# Setup a list of counters to store letter frequencies in each column\n",
    "# We need as many counters as columns\n",
    "wordlen = len(f.readline().strip())\n",
    "mycounters = []\n",
    "for ii in range(wordlen):\n",
    "    mycounters.append(Counter())\n",
    "\n",
    "# Reset f to the beginning of file\n",
    "f.seek(0)\n",
    "\n",
    "for line in f:\n",
    "    for index, letter in enumerate(line.strip()):\n",
    "        mycounters[index][letter] += 1\n",
    "\n",
    "# Get the final password by choosing most common letter for each counter\n",
    "myword = []\n",
    "for counter in mycounters:\n",
    "    myword.append(counter.most_common(1)[0][0])\n",
    "('').join(myword)"
   ]
  },
  {
   "cell_type": "markdown",
   "metadata": {},
   "source": [
    "## Part 2"
   ]
  },
  {
   "cell_type": "code",
   "execution_count": 104,
   "metadata": {
    "collapsed": false
   },
   "outputs": [
    {
     "data": {
      "text/plain": [
       "'xrwcsnps'"
      ]
     },
     "execution_count": 104,
     "metadata": {},
     "output_type": "execute_result"
    }
   ],
   "source": [
    "f = open('06_testinput.txt', \"r\")\n",
    "f = open('06_input.txt', \"r\")\n",
    "\n",
    "# Setup a list of counters to store letter frequencies in each column\n",
    "# We need as many counters as columns\n",
    "wordlen = len(f.readline().strip())\n",
    "mycounters = []\n",
    "for ii in range(wordlen):\n",
    "    mycounters.append(Counter())\n",
    "\n",
    "# Reset f to the beginning of file\n",
    "f.seek(0)\n",
    "\n",
    "for line in f:\n",
    "    for index, letter in enumerate(line.strip()):\n",
    "        mycounters[index][letter] += 1\n",
    "\n",
    "# Get the final password by choosing least common letter for each counter\n",
    "myword = []\n",
    "for counter in mycounters:\n",
    "    myword.append(counter.most_common()[-1][0])\n",
    "('').join(myword)"
   ]
  }
 ],
 "metadata": {
  "kernelspec": {
   "display_name": "Python 3",
   "language": "python",
   "name": "python3"
  },
  "language_info": {
   "codemirror_mode": {
    "name": "ipython",
    "version": 3
   },
   "file_extension": ".py",
   "mimetype": "text/x-python",
   "name": "python",
   "nbconvert_exporter": "python",
   "pygments_lexer": "ipython3",
   "version": "3.6.0"
  }
 },
 "nbformat": 4,
 "nbformat_minor": 2
}

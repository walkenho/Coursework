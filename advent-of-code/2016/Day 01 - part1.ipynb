{
 "cells": [
  {
   "cell_type": "code",
   "execution_count": 5,
   "metadata": {
    "collapsed": true
   },
   "outputs": [],
   "source": [
    "import numpy as np"
   ]
  },
  {
   "cell_type": "code",
   "execution_count": 14,
   "metadata": {
    "collapsed": true
   },
   "outputs": [],
   "source": [
    "d_dir = {0:\"N\", 1:\"E\", 2:\"S\", 3:\"W\"}"
   ]
  },
  {
   "cell_type": "code",
   "execution_count": 208,
   "metadata": {
    "collapsed": true
   },
   "outputs": [],
   "source": [
    "class position1:\n",
    "    def __init__(self, position, direction):\n",
    "        self.position = position\n",
    "        self.direction = direction\n",
    "        self.path = [position[0]-position[2], position[1]-position[3]]\n",
    "    \n",
    "    def advance(self, command):\n",
    "        if command[0] == 'R':\n",
    "            self.direction += 1\n",
    "        elif command[0] == 'L':\n",
    "            self.direction = self.direction - 1\n",
    "        else:\n",
    "            print(\"There was a problem with your turn.\")\n",
    "        self.direction = self.direction % 4\n",
    "        self.position[self.direction] += int(command[1:])\n",
    "        self.path.append([self.position[0]-self.position[2], self.position[1]-self.position[3]])\n",
    "        \n",
    "    def distance(self):\n",
    "        print(np.abs(self.position).sum())"
   ]
  },
  {
   "cell_type": "code",
   "execution_count": 216,
   "metadata": {
    "collapsed": true
   },
   "outputs": [],
   "source": [
    "class position:\n",
    "    def __init__(self, position=0+0j, direction=1+0j):\n",
    "        self.position = position\n",
    "        self.direction = direction\n",
    "        self.path = [position]\n",
    "    \n",
    "    def advance(self, command):\n",
    "        if command[0] == 'R':\n",
    "            self.direction = self.direction * 1j\n",
    "        elif command[0] == 'L':\n",
    "            self.direction = - self.direction * 1j \n",
    "        else:\n",
    "            print(\"There was a problem with your turn.\")\n",
    "        self.position = self.position + int(command[1:]) * self.direction\n",
    "        self.path.append(self.position)\n",
    "        \n",
    "    def distance(self):\n",
    "        print(int(abs(self.position.real) + abs(self.position.imag)))\n",
    "        \n",
    "    def detailed_path(self):\n",
    "        detailed_path = position[0]\n",
    "        for j = len(position)-1:\n",
    "            dist = position[]"
   ]
  },
  {
   "cell_type": "code",
   "execution_count": 217,
   "metadata": {},
   "outputs": [
    {
     "name": "stdout",
     "output_type": "stream",
     "text": [
      "(4+4j)\n",
      "(1-0j)\n",
      "8\n"
     ]
    },
    {
     "data": {
      "text/plain": [
       "[0j, 8j, (-4+8j), (-4+4j), (4+4j)]"
      ]
     },
     "execution_count": 217,
     "metadata": {},
     "output_type": "execute_result"
    }
   ],
   "source": [
    "myinput = 'L4, L3, R1, L4, R2, R2, L1, L2, R1, R1, L3, R5, L2, R5, L4, L3, R2, R2, L5, L1, R4, L1, R3, L3, R5, R2, L5, R2, R1, R1, L5, R1, L3, L2, L5, R4, R4, L2, L1, L1, R1, R1, L185, R4, L1, L1, R5, R1, L1, L3, L2, L1, R2, R2, R2, L1, L1, R4, R5, R53, L1, R1, R78, R3, R4, L1, R5, L1, L4, R3, R3, L3, L3, R191, R4, R1, L4, L1, R3, L1, L2, R3, R2, R4, R5, R5, L3, L5, R2, R3, L1, L1, L3, R1, R4, R1, R3, R4, R4, R4, R5, R2, L5, R1, R2, R5, L3, L4, R1, L5, R1, L4, L3, R5, R5, L3, L4, L4, R2, R2, L5, R3, R1, R2, R5, L5, L3, R4, L5, R5, L3, R1, L1, R4, R4, L3, R2, R5, R1, R2, L1, R4, R1, L3, L3, L5, R2, R5, L1, L4, R3, R3, L3, R2, L5, R1, R3, L3, R2, L1, R4, R3, L4, R5, L2, L2, R5, R1, R2, L4, L4, L5, R3, L4'\n",
    "myinput='R8, R4, R4, R8'\n",
    "mypos = position()\n",
    "for command in myinput.split(', '):\n",
    "    mypos.advance(command)\n",
    "print(mypos.position)\n",
    "print(mypos.direction)\n",
    "mypos.distance()\n",
    "mypos.path"
   ]
  },
  {
   "cell_type": "code",
   "execution_count": 214,
   "metadata": {},
   "outputs": [
    {
     "name": "stdout",
     "output_type": "stream",
     "text": [
      "84 (-145-169j)\n",
      "101 (-147-161j)\n",
      "102 (-145-161j)\n",
      "103 (-145-166j)\n",
      "104 (-144-166j)\n",
      "108 (-145-161j)\n",
      "141 (-148-164j)\n"
     ]
    }
   ],
   "source": [
    "for myindex, position in enumerate(mypos.path):\n",
    "    if position in mypos.path[:myindex]:\n",
    "        print(myindex, position)"
   ]
  },
  {
   "cell_type": "code",
   "execution_count": 202,
   "metadata": {
    "collapsed": true
   },
   "outputs": [],
   "source": [
    "def firstDuplicate(a):\n",
    "    set_ = set()\n",
    "    for item in a:\n",
    "        if item in set_:\n",
    "            return item\n",
    "        set_.add(item)\n",
    "    return None"
   ]
  },
  {
   "cell_type": "code",
   "execution_count": 203,
   "metadata": {},
   "outputs": [
    {
     "data": {
      "text/plain": [
       "(-145-169j)"
      ]
     },
     "execution_count": 203,
     "metadata": {},
     "output_type": "execute_result"
    }
   ],
   "source": [
    "firstDuplicate(mypos.path)"
   ]
  },
  {
   "cell_type": "code",
   "execution_count": 209,
   "metadata": {
    "collapsed": true
   },
   "outputs": [],
   "source": [
    "dir1 = 0\n",
    "x1 = [0, 0, 0, 0]\n",
    "mypos = position1(x1, dir1)\n",
    "for command in myinput.split(', '):\n",
    "    #print(command)\n",
    "    mypos.advance(command)\n",
    "#print(mypos.position)\n",
    "#print(mypos.position[0]-mypos.position[2], mypos.position[1]-mypos.position[3])"
   ]
  },
  {
   "cell_type": "code",
   "execution_count": 210,
   "metadata": {},
   "outputs": [
    {
     "data": {
      "text/plain": [
       "[0,\n",
       " 0,\n",
       " [0, -4],\n",
       " [-3, -4],\n",
       " [-3, -5],\n",
       " [-7, -5],\n",
       " [-7, -7],\n",
       " [-5, -7],\n",
       " [-5, -8],\n",
       " [-7, -8],\n",
       " [-7, -9],\n",
       " [-6, -9],\n",
       " [-6, -12],\n",
       " [-1, -12],\n",
       " [-1, -14],\n",
       " [4, -14],\n",
       " [4, -18],\n",
       " [1, -18],\n",
       " [1, -20],\n",
       " [3, -20],\n",
       " [3, -25],\n",
       " [2, -25],\n",
       " [2, -29],\n",
       " [1, -29],\n",
       " [1, -32],\n",
       " [-2, -32],\n",
       " [-2, -37],\n",
       " [0, -37],\n",
       " [0, -42],\n",
       " [2, -42],\n",
       " [2, -41],\n",
       " [1, -41],\n",
       " [1, -36],\n",
       " [0, -36],\n",
       " [0, -33],\n",
       " [2, -33],\n",
       " [2, -38],\n",
       " [6, -38],\n",
       " [6, -34],\n",
       " [8, -34],\n",
       " [8, -35],\n",
       " [7, -35],\n",
       " [7, -36],\n",
       " [8, -36],\n",
       " [8, -221],\n",
       " [12, -221],\n",
       " [12, -222],\n",
       " [11, -222],\n",
       " [11, -227],\n",
       " [12, -227],\n",
       " [12, -228],\n",
       " [9, -228],\n",
       " [9, -226],\n",
       " [10, -226],\n",
       " [10, -224],\n",
       " [8, -224],\n",
       " [8, -226],\n",
       " [7, -226],\n",
       " [7, -225],\n",
       " [3, -225],\n",
       " [3, -230],\n",
       " [56, -230],\n",
       " [56, -231],\n",
       " [57, -231],\n",
       " [57, -153],\n",
       " [54, -153],\n",
       " [54, -157],\n",
       " [53, -157],\n",
       " [53, -162],\n",
       " [52, -162],\n",
       " [52, -158],\n",
       " [49, -158],\n",
       " [49, -161],\n",
       " [46, -161],\n",
       " [46, -158],\n",
       " [-145, -158],\n",
       " [-145, -162],\n",
       " [-144, -162],\n",
       " [-144, -166],\n",
       " [-145, -166],\n",
       " [-145, -169],\n",
       " [-146, -169],\n",
       " [-146, -167],\n",
       " [-149, -167],\n",
       " [-149, -169],\n",
       " [-145, -169],\n",
       " [-145, -164],\n",
       " [-150, -164],\n",
       " [-150, -161],\n",
       " [-145, -161],\n",
       " [-145, -159],\n",
       " [-148, -159],\n",
       " [-148, -158],\n",
       " [-147, -158],\n",
       " [-147, -161],\n",
       " [-146, -161],\n",
       " [-146, -157],\n",
       " [-147, -157],\n",
       " [-147, -160],\n",
       " [-143, -160],\n",
       " [-143, -156],\n",
       " [-147, -156],\n",
       " [-147, -161],\n",
       " [-145, -161],\n",
       " [-145, -166],\n",
       " [-144, -166],\n",
       " [-144, -164],\n",
       " [-149, -164],\n",
       " [-149, -161],\n",
       " [-145, -161],\n",
       " [-145, -160],\n",
       " [-140, -160],\n",
       " [-140, -159],\n",
       " [-136, -159],\n",
       " [-136, -162],\n",
       " [-131, -162],\n",
       " [-131, -157],\n",
       " [-128, -157],\n",
       " [-128, -161],\n",
       " [-132, -161],\n",
       " [-132, -163],\n",
       " [-130, -163],\n",
       " [-130, -168],\n",
       " [-127, -168],\n",
       " [-127, -167],\n",
       " [-129, -167],\n",
       " [-129, -172],\n",
       " [-134, -172],\n",
       " [-134, -169],\n",
       " [-138, -169],\n",
       " [-138, -164],\n",
       " [-143, -164],\n",
       " [-143, -161],\n",
       " [-144, -161],\n",
       " [-144, -160],\n",
       " [-148, -160],\n",
       " [-148, -164],\n",
       " [-151, -164],\n",
       " [-151, -166],\n",
       " [-146, -166],\n",
       " [-146, -165],\n",
       " [-148, -165],\n",
       " [-148, -164],\n",
       " [-152, -164],\n",
       " [-152, -165],\n",
       " [-155, -165],\n",
       " [-155, -162],\n",
       " [-150, -162],\n",
       " [-150, -160],\n",
       " [-155, -160],\n",
       " [-155, -159],\n",
       " [-151, -159],\n",
       " [-151, -156],\n",
       " [-154, -156],\n",
       " [-154, -153],\n",
       " [-156, -153],\n",
       " [-156, -148],\n",
       " [-157, -148],\n",
       " [-157, -151],\n",
       " [-160, -151],\n",
       " [-160, -153],\n",
       " [-161, -153],\n",
       " [-161, -157],\n",
       " [-158, -157],\n",
       " [-158, -161],\n",
       " [-153, -161],\n",
       " [-153, -163],\n",
       " [-155, -163],\n",
       " [-155, -168],\n",
       " [-154, -168],\n",
       " [-154, -166],\n",
       " [-150, -166],\n",
       " [-150, -170],\n",
       " [-155, -170],\n",
       " [-155, -173],\n",
       " [-159, -173]]"
      ]
     },
     "execution_count": 210,
     "metadata": {},
     "output_type": "execute_result"
    }
   ],
   "source": [
    "mypos.path"
   ]
  },
  {
   "cell_type": "code",
   "execution_count": null,
   "metadata": {
    "collapsed": true
   },
   "outputs": [],
   "source": []
  }
 ],
 "metadata": {
  "kernelspec": {
   "display_name": "Python 3",
   "language": "python",
   "name": "python3"
  },
  "language_info": {
   "codemirror_mode": {
    "name": "ipython",
    "version": 3
   },
   "file_extension": ".py",
   "mimetype": "text/x-python",
   "name": "python",
   "nbconvert_exporter": "python",
   "pygments_lexer": "ipython3",
   "version": "3.5.2"
  }
 },
 "nbformat": 4,
 "nbformat_minor": 2
}

{
 "cells": [
  {
   "cell_type": "code",
   "execution_count": 95,
   "metadata": {
    "collapsed": false
   },
   "outputs": [],
   "source": [
    "class keypad:\n",
    "    def __init__(self, final_iter):\n",
    "        self.position = [0,0]\n",
    "        self.iter = 1\n",
    "        self.iter_final = final_iter\n",
    "    def increase_iter(self):\n",
    "        self.iter = self.iter + 1\n",
    "        return self.iter == self.iter_final\n",
    "    \n",
    "    def move(self):\n",
    "      if self.iter == self.iter_final:\n",
    "            return False\n",
    "      else:\n",
    "        #def move_right(self):\n",
    "        #print(\"Moving right\")\n",
    "        n_steps = -2*self.position[0] + 1\n",
    "        for ii in range(n_steps):\n",
    "            self.position[0] = self.position[0] + 1\n",
    "            #return self.increase_iter()\n",
    "            breakpoint = self.increase_iter()\n",
    "            #print(breakpoint)\n",
    "            #print(self.iter, self.position)\n",
    "            if breakpoint:\n",
    "                print(\"Your final position is %s\" %self.position)\n",
    "                break\n",
    "        if breakpoint:\n",
    "            return breakpoint\n",
    "        #def move_up(self):\n",
    "        \n",
    "        #print(\"Moving up\")\n",
    "        n_steps = - 2*self.position[1] + 1\n",
    "        for ii in range(n_steps):\n",
    "            self.position[1] = self.position[1] + 1\n",
    "            breakpoint = self.increase_iter()\n",
    "            #print(breakpoint)\n",
    "            #print(self.iter, self.position)\n",
    "            if breakpoint:\n",
    "                print(\"Your final position is %s\" %self.position)\n",
    "                break\n",
    "        if breakpoint:\n",
    "            return breakpoint\n",
    "        #def move_left(self):\n",
    "        \n",
    "        #print(\"Moving left\")\n",
    "        n_steps = 2*self.position[0]\n",
    "        for ii in range(n_steps):\n",
    "            self.position[0] = self.position[0] - 1\n",
    "            breakpoint = self.increase_iter()\n",
    "            #print(breakpoint)\n",
    "            #print(self.iter, self.position)\n",
    "            if breakpoint:\n",
    "                print(\"Your final position is %s\" %self.position)\n",
    "                break\n",
    "        if breakpoint:\n",
    "            return breakpoint\n",
    "        #def move_down(self):\n",
    "        \n",
    "        #print(\"Moving down\")\n",
    "        n_steps = 2*self.position[1]\n",
    "        for ii in range(n_steps):\n",
    "            self.position[1] = self.position[1] - 1\n",
    "            #return self.increase_iter()\n",
    "            breakpoint = self.increase_iter()\n",
    "            #print(breakpoint)\n",
    "            #print(self.iter, self.position)\n",
    "            if breakpoint:\n",
    "                print(\"Your final position is %s\" %self.position)\n",
    "                break\n",
    "        if breakpoint:\n",
    "            return breakpoint"
   ]
  },
  {
   "cell_type": "code",
   "execution_count": 97,
   "metadata": {
    "collapsed": false
   },
   "outputs": [
    {
     "name": "stdout",
     "output_type": "stream",
     "text": [
      "Your final position is [-150, 269]\n"
     ]
    }
   ],
   "source": [
    "pad = keypad(289326)\n",
    "while True:\n",
    "    go = pad.move()\n",
    "    if go:\n",
    "        break"
   ]
  },
  {
   "cell_type": "code",
   "execution_count": 98,
   "metadata": {
    "collapsed": false
   },
   "outputs": [
    {
     "data": {
      "text/plain": [
       "419"
      ]
     },
     "execution_count": 98,
     "metadata": {},
     "output_type": "execute_result"
    }
   ],
   "source": [
    "150+269"
   ]
  },
  {
   "cell_type": "code",
   "execution_count": null,
   "metadata": {
    "collapsed": true
   },
   "outputs": [],
   "source": []
  }
 ],
 "metadata": {
  "kernelspec": {
   "display_name": "Python 3",
   "language": "python",
   "name": "python3"
  },
  "language_info": {
   "codemirror_mode": {
    "name": "ipython",
    "version": 3
   },
   "file_extension": ".py",
   "mimetype": "text/x-python",
   "name": "python",
   "nbconvert_exporter": "python",
   "pygments_lexer": "ipython3",
   "version": "3.6.0"
  }
 },
 "nbformat": 4,
 "nbformat_minor": 2
}

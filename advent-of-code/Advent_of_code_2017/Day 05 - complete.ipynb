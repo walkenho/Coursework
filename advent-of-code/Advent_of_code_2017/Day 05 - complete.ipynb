{
 "cells": [
  {
   "cell_type": "markdown",
   "metadata": {},
   "source": [
    "# Day 05"
   ]
  },
  {
   "cell_type": "markdown",
   "metadata": {},
   "source": [
    "## Part 1"
   ]
  },
  {
   "cell_type": "code",
   "execution_count": 14,
   "metadata": {
    "collapsed": false
   },
   "outputs": [
    {
     "name": "stdout",
     "output_type": "stream",
     "text": [
      "388611\n"
     ]
    }
   ],
   "source": [
    "with open('05_input.txt') as f:\n",
    "    myinput = f.read().split('\\n')\n",
    "myinput = [int(entry) for entry in myinput]\n",
    "\n",
    "index = 0\n",
    "counter = 0\n",
    "while index < len(myinput):\n",
    "    index_new = index + myinput[index]\n",
    "    myinput[index] += 1\n",
    "    index = index_new\n",
    "    counter += 1\n",
    "print(counter)"
   ]
  },
  {
   "cell_type": "markdown",
   "metadata": {},
   "source": [
    "## Part 2"
   ]
  },
  {
   "cell_type": "code",
   "execution_count": null,
   "metadata": {
    "collapsed": true
   },
   "outputs": [],
   "source": [
    "with open('05_input.txt') as f:\n",
    "    myinput = f.read().split('\\n')\n",
    "myinput = [int(entry) for entry in myinput]\n",
    "\n",
    "index = 0\n",
    "counter = 0\n",
    "while index < len(myinput):\n",
    "    index_new = index + myinput[index]\n",
    "    if myinput[index] >= 3:\n",
    "        myinput[index] = myinput[index] -1\n",
    "    else:\n",
    "        myinput[index] += 1\n",
    "    index = index_new\n",
    "    counter += 1\n",
    "print(counter)"
   ]
  }
 ],
 "metadata": {
  "kernelspec": {
   "display_name": "Python 3",
   "language": "python",
   "name": "python3"
  },
  "language_info": {
   "codemirror_mode": {
    "name": "ipython",
    "version": 3
   },
   "file_extension": ".py",
   "mimetype": "text/x-python",
   "name": "python",
   "nbconvert_exporter": "python",
   "pygments_lexer": "ipython3",
   "version": "3.6.0"
  }
 },
 "nbformat": 4,
 "nbformat_minor": 2
}

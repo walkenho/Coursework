{
 "cells": [
  {
   "cell_type": "markdown",
   "metadata": {},
   "source": [
    "# Day 02"
   ]
  },
  {
   "cell_type": "code",
   "execution_count": 3,
   "metadata": {
    "collapsed": true
   },
   "outputs": [],
   "source": [
    "with open('02_input.txt') as f:\n",
    "    myinput = f.read().split('\\n')"
   ]
  },
  {
   "cell_type": "markdown",
   "metadata": {},
   "source": [
    "## Part 1"
   ]
  },
  {
   "cell_type": "code",
   "execution_count": 10,
   "metadata": {
    "collapsed": false
   },
   "outputs": [
    {
     "name": "stdout",
     "output_type": "stream",
     "text": [
      "32020\n"
     ]
    }
   ],
   "source": [
    "checksum = 0 \n",
    "for line in myinput:\n",
    "    entries = line.split('\\t')\n",
    "    entries_num = [int(entry) for entry in entries]\n",
    "    entries_num_sorted = sorted(entries_num)\n",
    "    checksum = checksum + (entries_num_sorted[-1] - entries_num_sorted[0])\n",
    "print(checksum)"
   ]
  },
  {
   "cell_type": "markdown",
   "metadata": {},
   "source": [
    "## Part 2"
   ]
  },
  {
   "cell_type": "code",
   "execution_count": 12,
   "metadata": {
    "collapsed": false
   },
   "outputs": [
    {
     "name": "stdout",
     "output_type": "stream",
     "text": [
      "236.0\n"
     ]
    }
   ],
   "source": [
    "checksum = 0 \n",
    "for line in myinput:\n",
    "    entries = line.split('\\t')\n",
    "    entries_num = [int(entry) for entry in entries]\n",
    "    # sort entries to cut down on computation time afterwards\n",
    "    entries_num_sorted = sorted(entries_num)\n",
    "    for ii in range(len(entries_num_sorted)):\n",
    "        for jj in range(ii+1, len(entries_num_sorted)):\n",
    "            if entries_num_sorted[jj] % entries_num_sorted[ii] == 0:\n",
    "                checksum = checksum + entries_num_sorted[jj] / entries_num_sorted[ii]\n",
    "\n",
    "# sanity check: the checksum should be an integer\n",
    "print(checksum)"
   ]
  }
 ],
 "metadata": {
  "kernelspec": {
   "display_name": "Python 3",
   "language": "python",
   "name": "python3"
  },
  "language_info": {
   "codemirror_mode": {
    "name": "ipython",
    "version": 3
   },
   "file_extension": ".py",
   "mimetype": "text/x-python",
   "name": "python",
   "nbconvert_exporter": "python",
   "pygments_lexer": "ipython3",
   "version": "3.6.0"
  }
 },
 "nbformat": 4,
 "nbformat_minor": 2
}

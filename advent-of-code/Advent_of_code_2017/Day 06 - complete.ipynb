{
 "cells": [
  {
   "cell_type": "markdown",
   "metadata": {},
   "source": [
    "# Day 06"
   ]
  },
  {
   "cell_type": "code",
   "execution_count": 8,
   "metadata": {
    "collapsed": true
   },
   "outputs": [],
   "source": [
    "import numpy as np"
   ]
  },
  {
   "cell_type": "code",
   "execution_count": 50,
   "metadata": {
    "collapsed": false
   },
   "outputs": [
    {
     "name": "stdout",
     "output_type": "stream",
     "text": [
      "Part 1:\n",
      "You reach an already known entry after 14029 iterations.\n",
      "Part 2:\n",
      "The loop is 2765 entries long.\n"
     ]
    }
   ],
   "source": [
    "with open(\"06_input.txt\") as f:\n",
    "    myinput = np.array([int(entry) for entry in f.read().split('\\t')])\n",
    "\n",
    "# myinput = np.array([0, 2, 7, 0])\n",
    "n_blocks = len(myinput)\n",
    "block_list = []\n",
    "\n",
    "\n",
    "while True:\n",
    "\n",
    "    # argmax gets first occurence of max\n",
    "    maxindex = myinput.argmax()\n",
    "    maximum = myinput[maxindex]\n",
    "\n",
    "        \n",
    "    # Redistribution\n",
    "    myinput[maxindex] = 0\n",
    "    for ii in range(1, maximum+1):\n",
    "        myinput[(maxindex + ii) % n_blocks] = myinput[(maxindex + ii) % n_blocks] + 1\n",
    "    \n",
    "    # Checking for repetition\n",
    "    if block_list != []:\n",
    "        if ((block_list == myinput).sum(axis=1) == n_blocks).sum():\n",
    "            break\n",
    "            \n",
    "    # if not repetition yet: prepare for next loop\n",
    "    block_list.append(myinput.copy())\n",
    "\n",
    "# Output - Part 1\n",
    "print(\"Part 1:\")\n",
    "print(\"You reach an already known entry after %s iterations.\" %(len(block_list) + 1))\n",
    "\n",
    "# Output - Part 2\n",
    "print(\"Part 2:\")\n",
    "print(\"The loop is %s entries long.\" \n",
    "      %(len(block_list) + 1 - (((block_list == myinput).sum(axis=1) == n_blocks).argmax() + 1))\n",
    "     )"
   ]
  }
 ],
 "metadata": {
  "kernelspec": {
   "display_name": "Python 3",
   "language": "python",
   "name": "python3"
  },
  "language_info": {
   "codemirror_mode": {
    "name": "ipython",
    "version": 3
   },
   "file_extension": ".py",
   "mimetype": "text/x-python",
   "name": "python",
   "nbconvert_exporter": "python",
   "pygments_lexer": "ipython3",
   "version": "3.6.0"
  }
 },
 "nbformat": 4,
 "nbformat_minor": 2
}
